{
 "cells": [
  {
   "cell_type": "code",
   "execution_count": 2,
   "id": "4f92904c-45fb-462d-bb35-95acefa75fe3",
   "metadata": {},
   "outputs": [],
   "source": [
    "import tensorflow as tf\n",
    "from tensorflow.keras import models,layers\n",
    "import matplotlib.pyplot as plt"
   ]
  },
  {
   "cell_type": "code",
   "execution_count": 3,
   "id": "0826ae06-82f0-42da-8206-86aeac01882f",
   "metadata": {},
   "outputs": [],
   "source": [
    "Image_size = 128\n",
    "Batch_size = 32"
   ]
  },
  {
   "cell_type": "code",
   "execution_count": 4,
   "id": "1f0ebf8e-96f5-4d57-8d8c-a5a063314841",
   "metadata": {},
   "outputs": [
    {
     "name": "stdout",
     "output_type": "stream",
     "text": [
      "Found 70295 files belonging to 38 classes.\n"
     ]
    }
   ],
   "source": [
    "dataset = tf.keras.preprocessing.image_dataset_from_directory(\n",
    "    \"train\",\n",
    "    shuffle =True,\n",
    "    image_size =(Image_size,Image_size),\n",
    "    batch_size =Batch_size \n",
    ")\n",
    "    "
   ]
  },
  {
   "cell_type": "code",
   "execution_count": 5,
   "id": "ac368aac-8e82-4096-86c7-34aa3997e465",
   "metadata": {},
   "outputs": [
    {
     "data": {
      "text/plain": [
       "['Apple___Apple_scab',\n",
       " 'Apple___Black_rot',\n",
       " 'Apple___Cedar_apple_rust',\n",
       " 'Apple___healthy',\n",
       " 'Blueberry___healthy',\n",
       " 'Cherry_(including_sour)___Powdery_mildew',\n",
       " 'Cherry_(including_sour)___healthy',\n",
       " 'Corn_(maize)___Cercospora_leaf_spot Gray_leaf_spot',\n",
       " 'Corn_(maize)___Common_rust_',\n",
       " 'Corn_(maize)___Northern_Leaf_Blight',\n",
       " 'Corn_(maize)___healthy',\n",
       " 'Grape___Black_rot',\n",
       " 'Grape___Esca_(Black_Measles)',\n",
       " 'Grape___Leaf_blight_(Isariopsis_Leaf_Spot)',\n",
       " 'Grape___healthy',\n",
       " 'Orange___Haunglongbing_(Citrus_greening)',\n",
       " 'Peach___Bacterial_spot',\n",
       " 'Peach___healthy',\n",
       " 'Pepper,_bell___Bacterial_spot',\n",
       " 'Pepper,_bell___healthy',\n",
       " 'Potato___Early_blight',\n",
       " 'Potato___Late_blight',\n",
       " 'Potato___healthy',\n",
       " 'Raspberry___healthy',\n",
       " 'Soybean___healthy',\n",
       " 'Squash___Powdery_mildew',\n",
       " 'Strawberry___Leaf_scorch',\n",
       " 'Strawberry___healthy',\n",
       " 'Tomato___Bacterial_spot',\n",
       " 'Tomato___Early_blight',\n",
       " 'Tomato___Late_blight',\n",
       " 'Tomato___Leaf_Mold',\n",
       " 'Tomato___Septoria_leaf_spot',\n",
       " 'Tomato___Spider_mites Two-spotted_spider_mite',\n",
       " 'Tomato___Target_Spot',\n",
       " 'Tomato___Tomato_Yellow_Leaf_Curl_Virus',\n",
       " 'Tomato___Tomato_mosaic_virus',\n",
       " 'Tomato___healthy']"
      ]
     },
     "execution_count": 5,
     "metadata": {},
     "output_type": "execute_result"
    }
   ],
   "source": [
    "class_names = dataset.class_names\n",
    "class_names "
   ]
  },
  {
   "cell_type": "code",
   "execution_count": 6,
   "id": "81df0aff-a3e0-429f-8df7-ddf3c05bd887",
   "metadata": {},
   "outputs": [
    {
     "name": "stdout",
     "output_type": "stream",
     "text": [
      "Found 17572 files belonging to 38 classes.\n"
     ]
    }
   ],
   "source": [
    "datavalidation = tf.keras.preprocessing.image_dataset_from_directory(\n",
    "    \"valid\",\n",
    "    shuffle =True,\n",
    "    image_size =(Image_size,Image_size),\n",
    "    batch_size =Batch_size \n",
    ")\n",
    "    "
   ]
  },
  {
   "cell_type": "code",
   "execution_count": 7,
   "id": "ac57de8c-17ef-4502-a168-6aec3ec9a4c1",
   "metadata": {},
   "outputs": [
    {
     "data": {
      "text/plain": [
       "['Apple___Apple_scab',\n",
       " 'Apple___Black_rot',\n",
       " 'Apple___Cedar_apple_rust',\n",
       " 'Apple___healthy',\n",
       " 'Blueberry___healthy',\n",
       " 'Cherry_(including_sour)___Powdery_mildew',\n",
       " 'Cherry_(including_sour)___healthy',\n",
       " 'Corn_(maize)___Cercospora_leaf_spot Gray_leaf_spot',\n",
       " 'Corn_(maize)___Common_rust_',\n",
       " 'Corn_(maize)___Northern_Leaf_Blight',\n",
       " 'Corn_(maize)___healthy',\n",
       " 'Grape___Black_rot',\n",
       " 'Grape___Esca_(Black_Measles)',\n",
       " 'Grape___Leaf_blight_(Isariopsis_Leaf_Spot)',\n",
       " 'Grape___healthy',\n",
       " 'Orange___Haunglongbing_(Citrus_greening)',\n",
       " 'Peach___Bacterial_spot',\n",
       " 'Peach___healthy',\n",
       " 'Pepper,_bell___Bacterial_spot',\n",
       " 'Pepper,_bell___healthy',\n",
       " 'Potato___Early_blight',\n",
       " 'Potato___Late_blight',\n",
       " 'Potato___healthy',\n",
       " 'Raspberry___healthy',\n",
       " 'Soybean___healthy',\n",
       " 'Squash___Powdery_mildew',\n",
       " 'Strawberry___Leaf_scorch',\n",
       " 'Strawberry___healthy',\n",
       " 'Tomato___Bacterial_spot',\n",
       " 'Tomato___Early_blight',\n",
       " 'Tomato___Late_blight',\n",
       " 'Tomato___Leaf_Mold',\n",
       " 'Tomato___Septoria_leaf_spot',\n",
       " 'Tomato___Spider_mites Two-spotted_spider_mite',\n",
       " 'Tomato___Target_Spot',\n",
       " 'Tomato___Tomato_Yellow_Leaf_Curl_Virus',\n",
       " 'Tomato___Tomato_mosaic_virus',\n",
       " 'Tomato___healthy']"
      ]
     },
     "execution_count": 7,
     "metadata": {},
     "output_type": "execute_result"
    }
   ],
   "source": [
    "class_names = datavalidation.class_names\n",
    "class_names "
   ]
  },
  {
   "cell_type": "code",
   "execution_count": 8,
   "id": "f9b4b2e1-3f4a-4adf-859b-80d8260e608b",
   "metadata": {},
   "outputs": [
    {
     "name": "stdout",
     "output_type": "stream",
     "text": [
      "tf.Tensor(\n",
      "[[[[218.5  207.5  213.5 ]\n",
      "   [216.75 205.75 211.75]\n",
      "   [212.25 201.25 207.25]\n",
      "   ...\n",
      "   [187.25 175.25 187.25]\n",
      "   [178.75 166.75 178.75]\n",
      "   [181.5  169.5  181.5 ]]\n",
      "\n",
      "  [[202.5  191.5  197.5 ]\n",
      "   [211.5  200.5  206.5 ]\n",
      "   [223.5  212.5  218.5 ]\n",
      "   ...\n",
      "   [186.75 174.75 186.75]\n",
      "   [186.75 174.75 186.75]\n",
      "   [187.25 175.25 187.25]]\n",
      "\n",
      "  [[209.   198.   204.  ]\n",
      "   [212.5  201.5  207.5 ]\n",
      "   [218.5  207.5  213.5 ]\n",
      "   ...\n",
      "   [190.   178.   190.  ]\n",
      "   [184.25 172.25 184.25]\n",
      "   [183.5  171.5  183.5 ]]\n",
      "\n",
      "  ...\n",
      "\n",
      "  [[177.25 164.25 171.25]\n",
      "   [166.75 153.75 160.75]\n",
      "   [181.25 168.25 175.25]\n",
      "   ...\n",
      "   [181.5  168.5  177.5 ]\n",
      "   [166.75 153.75 162.75]\n",
      "   [175.5  162.5  171.5 ]]\n",
      "\n",
      "  [[175.25 162.25 169.25]\n",
      "   [172.25 159.25 166.25]\n",
      "   [178.25 165.25 172.25]\n",
      "   ...\n",
      "   [165.25 152.25 161.25]\n",
      "   [174.   161.   170.  ]\n",
      "   [178.5  165.5  174.5 ]]\n",
      "\n",
      "  [[189.   176.   183.  ]\n",
      "   [182.   169.   176.  ]\n",
      "   [181.5  168.5  175.5 ]\n",
      "   ...\n",
      "   [181.25 168.25 177.25]\n",
      "   [187.5  174.5  183.5 ]\n",
      "   [166.75 153.75 162.75]]]\n",
      "\n",
      "\n",
      " [[[147.   135.   135.  ]\n",
      "   [165.75 153.75 153.75]\n",
      "   [148.5  136.5  136.5 ]\n",
      "   ...\n",
      "   [155.5  143.5  147.5 ]\n",
      "   [154.5  142.5  146.5 ]\n",
      "   [147.25 135.25 139.25]]\n",
      "\n",
      "  [[155.5  143.5  143.5 ]\n",
      "   [157.5  145.5  145.5 ]\n",
      "   [153.25 141.25 141.25]\n",
      "   ...\n",
      "   [157.25 145.25 149.25]\n",
      "   [157.   145.   149.  ]\n",
      "   [152.75 140.75 144.75]]\n",
      "\n",
      "  [[169.   157.   157.  ]\n",
      "   [181.5  169.5  169.5 ]\n",
      "   [164.   152.   152.  ]\n",
      "   ...\n",
      "   [149.75 137.75 141.75]\n",
      "   [150.   138.   142.  ]\n",
      "   [150.   138.   142.  ]]\n",
      "\n",
      "  ...\n",
      "\n",
      "  [[171.   162.   167.  ]\n",
      "   [155.   146.   151.  ]\n",
      "   [149.5  140.5  145.5 ]\n",
      "   ...\n",
      "   [157.25 146.25 152.25]\n",
      "   [158.   147.   153.  ]\n",
      "   [156.5  145.5  151.5 ]]\n",
      "\n",
      "  [[162.   153.   158.  ]\n",
      "   [164.5  155.5  160.5 ]\n",
      "   [151.25 142.25 147.25]\n",
      "   ...\n",
      "   [156.75 145.75 151.75]\n",
      "   [154.5  143.5  149.5 ]\n",
      "   [154.5  143.5  149.5 ]]\n",
      "\n",
      "  [[157.   148.   153.  ]\n",
      "   [172.75 163.75 168.75]\n",
      "   [166.25 157.25 162.25]\n",
      "   ...\n",
      "   [159.   148.   154.  ]\n",
      "   [154.75 143.75 149.75]\n",
      "   [156.75 145.75 151.75]]]\n",
      "\n",
      "\n",
      " [[[130.75 131.75 149.75]\n",
      "   [130.75 131.75 149.75]\n",
      "   [140.5  141.5  159.5 ]\n",
      "   ...\n",
      "   [154.   152.   165.  ]\n",
      "   [154.5  152.5  165.5 ]\n",
      "   [147.   145.   158.  ]]\n",
      "\n",
      "  [[138.75 139.75 157.75]\n",
      "   [148.5  149.5  167.5 ]\n",
      "   [137.5  138.5  156.5 ]\n",
      "   ...\n",
      "   [158.   156.   169.  ]\n",
      "   [156.25 154.25 167.25]\n",
      "   [148.75 146.75 159.75]]\n",
      "\n",
      "  [[134.75 135.75 153.75]\n",
      "   [136.   137.   155.  ]\n",
      "   [144.   145.   163.  ]\n",
      "   ...\n",
      "   [144.75 142.75 155.75]\n",
      "   [144.75 142.75 155.75]\n",
      "   [154.   152.   165.  ]]\n",
      "\n",
      "  ...\n",
      "\n",
      "  [[153.   156.   175.  ]\n",
      "   [156.   159.   178.  ]\n",
      "   [155.25 158.25 177.25]\n",
      "   ...\n",
      "   [195.75 199.75 210.75]\n",
      "   [192.5  196.5  207.5 ]\n",
      "   [193.25 197.25 208.25]]\n",
      "\n",
      "  [[149.75 152.75 171.75]\n",
      "   [159.5  162.5  181.5 ]\n",
      "   [157.5  160.5  179.5 ]\n",
      "   ...\n",
      "   [196.75 200.75 211.75]\n",
      "   [188.75 192.75 203.75]\n",
      "   [194.5  198.5  209.5 ]]\n",
      "\n",
      "  [[158.25 161.25 180.25]\n",
      "   [154.75 157.75 176.75]\n",
      "   [155.   158.   177.  ]\n",
      "   ...\n",
      "   [204.   208.   219.  ]\n",
      "   [196.5  200.5  211.5 ]\n",
      "   [196.25 200.25 211.25]]]\n",
      "\n",
      "\n",
      " ...\n",
      "\n",
      "\n",
      " [[[ 65.25  76.75  36.75]\n",
      "   [ 35.    53.5   13.5 ]\n",
      "   [ 22.75  51.75   8.25]\n",
      "   ...\n",
      "   [158.   196.   149.  ]\n",
      "   [156.   194.   145.  ]\n",
      "   [160.75 198.75 149.75]]\n",
      "\n",
      "  [[ 70.25  83.75  45.25]\n",
      "   [ 36.5   56.    15.5 ]\n",
      "   [ 25.75  54.75  13.25]\n",
      "   ...\n",
      "   [156.5  194.5  147.5 ]\n",
      "   [158.5  196.5  147.5 ]\n",
      "   [164.5  202.5  153.5 ]]\n",
      "\n",
      "  [[ 45.75  62.    22.75]\n",
      "   [ 25.25  48.5    9.  ]\n",
      "   [ 23.75  54.25  12.25]\n",
      "   ...\n",
      "   [156.25 194.25 147.25]\n",
      "   [155.5  193.5  144.5 ]\n",
      "   [158.25 196.25 147.25]]\n",
      "\n",
      "  ...\n",
      "\n",
      "  [[127.25 170.75  51.25]\n",
      "   [119.   162.    45.75]\n",
      "   [114.75 156.5   47.5 ]\n",
      "   ...\n",
      "   [ 30.25  62.25  47.25]\n",
      "   [ 25.5   57.5   42.5 ]\n",
      "   [ 23.25  55.25  40.25]]\n",
      "\n",
      "  [[131.25 171.25  56.75]\n",
      "   [116.5  156.25  44.5 ]\n",
      "   [111.5  152.5   48.75]\n",
      "   ...\n",
      "   [ 44.5   76.5   63.5 ]\n",
      "   [ 42.5   74.5   61.5 ]\n",
      "   [ 43.25  75.25  62.25]]\n",
      "\n",
      "  [[129.   169.    57.  ]\n",
      "   [113.25 152.25  45.  ]\n",
      "   [109.   149.5   50.  ]\n",
      "   ...\n",
      "   [ 61.5   95.5   81.5 ]\n",
      "   [ 64.    98.    84.  ]\n",
      "   [ 65.5   99.5   85.5 ]]]\n",
      "\n",
      "\n",
      " [[[173.   167.   181.  ]\n",
      "   [172.75 166.75 180.75]\n",
      "   [173.5  167.5  181.5 ]\n",
      "   ...\n",
      "   [173.75 164.75 169.75]\n",
      "   [168.75 159.75 164.75]\n",
      "   [175.   166.   171.  ]]\n",
      "\n",
      "  [[173.75 167.75 179.75]\n",
      "   [173.   167.   179.  ]\n",
      "   [174.   168.   180.  ]\n",
      "   ...\n",
      "   [173.75 164.75 169.75]\n",
      "   [172.   163.   168.  ]\n",
      "   [178.   169.   174.  ]]\n",
      "\n",
      "  [[174.5  168.5  180.5 ]\n",
      "   [174.   168.   180.  ]\n",
      "   [174.5  168.5  180.5 ]\n",
      "   ...\n",
      "   [171.5  162.5  167.5 ]\n",
      "   [174.5  165.5  170.5 ]\n",
      "   [179.25 170.25 175.25]]\n",
      "\n",
      "  ...\n",
      "\n",
      "  [[161.   150.   154.  ]\n",
      "   [161.   150.   154.  ]\n",
      "   [161.   150.   154.  ]\n",
      "   ...\n",
      "   [141.   130.   128.  ]\n",
      "   [140.25 129.25 127.25]\n",
      "   [149.5  138.5  136.5 ]]\n",
      "\n",
      "  [[162.   151.   155.  ]\n",
      "   [162.   151.   155.  ]\n",
      "   [162.   151.   155.  ]\n",
      "   ...\n",
      "   [144.25 133.25 131.25]\n",
      "   [139.   128.   126.  ]\n",
      "   [146.75 135.75 133.75]]\n",
      "\n",
      "  [[162.5  151.5  155.5 ]\n",
      "   [162.5  151.5  155.5 ]\n",
      "   [162.5  151.5  155.5 ]\n",
      "   ...\n",
      "   [146.75 135.75 133.75]\n",
      "   [142.25 131.25 129.25]\n",
      "   [148.75 137.75 135.75]]]\n",
      "\n",
      "\n",
      " [[[178.75 173.75 180.75]\n",
      "   [182.   177.   184.  ]\n",
      "   [181.75 176.75 183.75]\n",
      "   ...\n",
      "   [156.25 147.25 152.25]\n",
      "   [163.   154.   159.  ]\n",
      "   [159.5  150.5  155.5 ]]\n",
      "\n",
      "  [[176.5  171.5  178.5 ]\n",
      "   [180.25 175.25 182.25]\n",
      "   [181.5  176.5  183.5 ]\n",
      "   ...\n",
      "   [160.25 151.25 156.25]\n",
      "   [162.25 153.25 158.25]\n",
      "   [163.5  154.5  159.5 ]]\n",
      "\n",
      "  [[182.   177.   184.  ]\n",
      "   [183.5  178.5  185.5 ]\n",
      "   [185.   180.   187.  ]\n",
      "   ...\n",
      "   [158.5  149.5  154.5 ]\n",
      "   [159.75 150.75 155.75]\n",
      "   [160.25 151.25 156.25]]\n",
      "\n",
      "  ...\n",
      "\n",
      "  [[208.5  206.5  209.5 ]\n",
      "   [211.25 209.25 212.25]\n",
      "   [212.   210.   213.  ]\n",
      "   ...\n",
      "   [190.75 184.75 186.75]\n",
      "   [193.   187.   189.  ]\n",
      "   [186.25 180.25 182.25]]\n",
      "\n",
      "  [[215.25 213.25 216.25]\n",
      "   [213.5  211.5  214.5 ]\n",
      "   [211.   209.   212.  ]\n",
      "   ...\n",
      "   [183.25 177.25 179.25]\n",
      "   [180.75 174.75 176.75]\n",
      "   [184.75 178.75 180.75]]\n",
      "\n",
      "  [[213.75 211.75 214.75]\n",
      "   [211.75 209.75 212.75]\n",
      "   [210.25 208.25 211.25]\n",
      "   ...\n",
      "   [183.5  177.5  179.5 ]\n",
      "   [180.5  174.5  176.5 ]\n",
      "   [183.5  177.5  179.5 ]]]], shape=(32, 128, 128, 3), dtype=float32) (32, 128, 128, 3)\n",
      "tf.Tensor(\n",
      "[32 18 20  2  0 13 12  1  7  9 33 14 11 31 10 19  1 16 35  7 31  6  3 29\n",
      "  0 36  6 35  1 10 23 11], shape=(32,), dtype=int32) (32,)\n"
     ]
    }
   ],
   "source": [
    "for x,y in dataset:\n",
    "    print(x,x.shape)\n",
    "    print(y,y.shape)\n",
    "    break"
   ]
  },
  {
   "cell_type": "markdown",
   "id": "ccdafb0e-d7e6-48ec-aa7a-86841b01f78d",
   "metadata": {},
   "source": [
    "Building a Model"
   ]
  },
  {
   "cell_type": "code",
   "execution_count": 9,
   "id": "7373b861-8ce8-4804-bec7-cadbe579a43c",
   "metadata": {},
   "outputs": [],
   "source": [
    "from tensorflow.keras.layers import Dense,Conv2D,MaxPool2D,Flatten\n",
    "from tensorflow.keras.models import Sequential"
   ]
  },
  {
   "cell_type": "code",
   "execution_count": 10,
   "id": "325868b7-a0f5-479a-ac05-9abfa3f3978f",
   "metadata": {},
   "outputs": [],
   "source": [
    "model = Sequential()"
   ]
  },
  {
   "cell_type": "code",
   "execution_count": 11,
   "id": "09839269-859a-44e6-9220-987bca4870d8",
   "metadata": {},
   "outputs": [
    {
     "name": "stderr",
     "output_type": "stream",
     "text": [
      "C:\\Users\\lingas\\anaconda3\\lib\\site-packages\\keras\\src\\layers\\convolutional\\base_conv.py:107: UserWarning: Do not pass an `input_shape`/`input_dim` argument to a layer. When using Sequential models, prefer using an `Input(shape)` object as the first layer in the model instead.\n",
      "  super().__init__(activity_regularizer=activity_regularizer, **kwargs)\n"
     ]
    }
   ],
   "source": [
    "model.add(Conv2D(filters = 32,kernel_size = 3 ,padding = 'same',activation ='relu',input_shape=[128,128, 3]))\n",
    "model.add(Conv2D(filters = 32,kernel_size = 3 ,padding = 'same',activation ='relu' ))\n",
    "model.add(MaxPool2D(pool_size = 2,strides = 2))"
   ]
  },
  {
   "cell_type": "code",
   "execution_count": 12,
   "id": "eac97387-22c3-49b3-8add-b1747a2d92f1",
   "metadata": {},
   "outputs": [],
   "source": [
    "model.add(Conv2D(filters = 64,kernel_size = 3 ,padding = 'same',activation ='relu',input_shape=[128,128, 3]))\n",
    "model.add(Conv2D(filters = 64,kernel_size = 3 ,padding = 'same',activation ='relu' ))\n",
    "model.add(MaxPool2D(pool_size = 2,strides = 2))"
   ]
  },
  {
   "cell_type": "code",
   "execution_count": 13,
   "id": "a0224f43-1f54-4bcb-9d0d-2cc3319ffcf5",
   "metadata": {},
   "outputs": [],
   "source": [
    "model.add(Conv2D(filters = 128,kernel_size = 3 ,padding = 'same',activation ='relu'))\n",
    "model.add(Conv2D(filters = 128,kernel_size = 3 ,padding = 'same',activation ='relu' ))\n",
    "model.add(MaxPool2D(pool_size = 2,strides = 2))"
   ]
  },
  {
   "cell_type": "code",
   "execution_count": 14,
   "id": "3047af32-a061-41c1-8485-8ae83966fa5d",
   "metadata": {},
   "outputs": [],
   "source": [
    "model.add(Conv2D(filters = 256,kernel_size = 3 ,padding = 'same',activation ='relu'))\n",
    "model.add(Conv2D(filters = 256,kernel_size = 3 ,padding = 'same',activation ='relu' ))\n",
    "model.add(MaxPool2D(pool_size = 2,strides = 2))"
   ]
  },
  {
   "cell_type": "code",
   "execution_count": 15,
   "id": "79bb0ef4-d11c-446f-b32c-ebd4f671ce98",
   "metadata": {},
   "outputs": [],
   "source": [
    "model.add(Conv2D(filters = 512,kernel_size = 3 ,padding = 'same',activation ='relu'))\n",
    "model.add(Conv2D(filters = 512,kernel_size = 3 ,padding = 'same',activation ='relu' ))\n",
    "model.add(MaxPool2D(pool_size = 2,strides = 2))"
   ]
  },
  {
   "cell_type": "markdown",
   "id": "6f08c1ae-e862-416f-a9ca-fd907d327983",
   "metadata": {},
   "source": [
    "flatting the dataset"
   ]
  },
  {
   "cell_type": "code",
   "execution_count": 16,
   "id": "efe0eaa5-2f5f-4031-ac28-a3c0bc287f7f",
   "metadata": {},
   "outputs": [],
   "source": [
    "\n",
    "# to avoid overfitting here we are dropping 25% of the \n",
    "model.add(tf.keras.layers.Dropout(0.4))"
   ]
  },
  {
   "cell_type": "code",
   "execution_count": 17,
   "id": "e039f5b0-fdb6-4b23-92e7-c2aa651a5e67",
   "metadata": {},
   "outputs": [],
   "source": [
    "model.add(Flatten())"
   ]
  },
  {
   "cell_type": "markdown",
   "id": "08e37c08-83f6-4489-b42c-427acbaad155",
   "metadata": {},
   "source": [
    "adding hidden layers"
   ]
  },
  {
   "cell_type": "code",
   "execution_count": 18,
   "id": "9dfd06d6-f4c1-4f59-ae66-253af691f842",
   "metadata": {},
   "outputs": [],
   "source": [
    "model.add(Dense(units = 1024,activation ='relu'))"
   ]
  },
  {
   "cell_type": "code",
   "execution_count": 19,
   "id": "8b564579-b8bc-41e6-9c4f-f70780c00cfe",
   "metadata": {},
   "outputs": [],
   "source": [
    "model.add(tf.keras.layers.Dropout(0.4)) #To avoid overfitting"
   ]
  },
  {
   "cell_type": "code",
   "execution_count": 20,
   "id": "9b38acc1-81f0-48c4-bb7f-d086fd0d1c93",
   "metadata": {},
   "outputs": [],
   "source": [
    "##output\n",
    "model.add(Dense(units = 38,activation ='softmax'))"
   ]
  },
  {
   "cell_type": "markdown",
   "id": "5de3c17f-8099-4dac-8e07-94b8564051d0",
   "metadata": {},
   "source": [
    "compiling the model"
   ]
  },
  {
   "cell_type": "code",
   "execution_count": 21,
   "id": "23f9f9b4-ff8e-4b99-8775-d1ab26e5f2c8",
   "metadata": {},
   "outputs": [],
   "source": [
    "model.compile(optimizer=tf.keras.optimizers.Adam(learning_rate=0.0001),\n",
    "              loss='sparse_categorical_crossentropy', \n",
    "              metrics=['accuracy'])\n",
    " # Use sparse_categorical_crossentropy\n"
   ]
  },
  {
   "cell_type": "code",
   "execution_count": 22,
   "id": "68a02289-0153-4d14-b66a-ed6d90754cde",
   "metadata": {
    "scrolled": true
   },
   "outputs": [
    {
     "data": {
      "text/html": [
       "<pre style=\"white-space:pre;overflow-x:auto;line-height:normal;font-family:Menlo,'DejaVu Sans Mono',consolas,'Courier New',monospace\"><span style=\"font-weight: bold\">Model: \"sequential\"</span>\n",
       "</pre>\n"
      ],
      "text/plain": [
       "\u001b[1mModel: \"sequential\"\u001b[0m\n"
      ]
     },
     "metadata": {},
     "output_type": "display_data"
    },
    {
     "data": {
      "text/html": [
       "<pre style=\"white-space:pre;overflow-x:auto;line-height:normal;font-family:Menlo,'DejaVu Sans Mono',consolas,'Courier New',monospace\">┏━━━━━━━━━━━━━━━━━━━━━━━━━━━━━━━━━━━━━━┳━━━━━━━━━━━━━━━━━━━━━━━━━━━━━┳━━━━━━━━━━━━━━━━━┓\n",
       "┃<span style=\"font-weight: bold\"> Layer (type)                         </span>┃<span style=\"font-weight: bold\"> Output Shape                </span>┃<span style=\"font-weight: bold\">         Param # </span>┃\n",
       "┡━━━━━━━━━━━━━━━━━━━━━━━━━━━━━━━━━━━━━━╇━━━━━━━━━━━━━━━━━━━━━━━━━━━━━╇━━━━━━━━━━━━━━━━━┩\n",
       "│ conv2d (<span style=\"color: #0087ff; text-decoration-color: #0087ff\">Conv2D</span>)                      │ (<span style=\"color: #00d7ff; text-decoration-color: #00d7ff\">None</span>, <span style=\"color: #00af00; text-decoration-color: #00af00\">128</span>, <span style=\"color: #00af00; text-decoration-color: #00af00\">128</span>, <span style=\"color: #00af00; text-decoration-color: #00af00\">32</span>)        │             <span style=\"color: #00af00; text-decoration-color: #00af00\">896</span> │\n",
       "├──────────────────────────────────────┼─────────────────────────────┼─────────────────┤\n",
       "│ conv2d_1 (<span style=\"color: #0087ff; text-decoration-color: #0087ff\">Conv2D</span>)                    │ (<span style=\"color: #00d7ff; text-decoration-color: #00d7ff\">None</span>, <span style=\"color: #00af00; text-decoration-color: #00af00\">128</span>, <span style=\"color: #00af00; text-decoration-color: #00af00\">128</span>, <span style=\"color: #00af00; text-decoration-color: #00af00\">32</span>)        │           <span style=\"color: #00af00; text-decoration-color: #00af00\">9,248</span> │\n",
       "├──────────────────────────────────────┼─────────────────────────────┼─────────────────┤\n",
       "│ max_pooling2d (<span style=\"color: #0087ff; text-decoration-color: #0087ff\">MaxPooling2D</span>)         │ (<span style=\"color: #00d7ff; text-decoration-color: #00d7ff\">None</span>, <span style=\"color: #00af00; text-decoration-color: #00af00\">64</span>, <span style=\"color: #00af00; text-decoration-color: #00af00\">64</span>, <span style=\"color: #00af00; text-decoration-color: #00af00\">32</span>)          │               <span style=\"color: #00af00; text-decoration-color: #00af00\">0</span> │\n",
       "├──────────────────────────────────────┼─────────────────────────────┼─────────────────┤\n",
       "│ conv2d_2 (<span style=\"color: #0087ff; text-decoration-color: #0087ff\">Conv2D</span>)                    │ (<span style=\"color: #00d7ff; text-decoration-color: #00d7ff\">None</span>, <span style=\"color: #00af00; text-decoration-color: #00af00\">64</span>, <span style=\"color: #00af00; text-decoration-color: #00af00\">64</span>, <span style=\"color: #00af00; text-decoration-color: #00af00\">64</span>)          │          <span style=\"color: #00af00; text-decoration-color: #00af00\">18,496</span> │\n",
       "├──────────────────────────────────────┼─────────────────────────────┼─────────────────┤\n",
       "│ conv2d_3 (<span style=\"color: #0087ff; text-decoration-color: #0087ff\">Conv2D</span>)                    │ (<span style=\"color: #00d7ff; text-decoration-color: #00d7ff\">None</span>, <span style=\"color: #00af00; text-decoration-color: #00af00\">64</span>, <span style=\"color: #00af00; text-decoration-color: #00af00\">64</span>, <span style=\"color: #00af00; text-decoration-color: #00af00\">64</span>)          │          <span style=\"color: #00af00; text-decoration-color: #00af00\">36,928</span> │\n",
       "├──────────────────────────────────────┼─────────────────────────────┼─────────────────┤\n",
       "│ max_pooling2d_1 (<span style=\"color: #0087ff; text-decoration-color: #0087ff\">MaxPooling2D</span>)       │ (<span style=\"color: #00d7ff; text-decoration-color: #00d7ff\">None</span>, <span style=\"color: #00af00; text-decoration-color: #00af00\">32</span>, <span style=\"color: #00af00; text-decoration-color: #00af00\">32</span>, <span style=\"color: #00af00; text-decoration-color: #00af00\">64</span>)          │               <span style=\"color: #00af00; text-decoration-color: #00af00\">0</span> │\n",
       "├──────────────────────────────────────┼─────────────────────────────┼─────────────────┤\n",
       "│ conv2d_4 (<span style=\"color: #0087ff; text-decoration-color: #0087ff\">Conv2D</span>)                    │ (<span style=\"color: #00d7ff; text-decoration-color: #00d7ff\">None</span>, <span style=\"color: #00af00; text-decoration-color: #00af00\">32</span>, <span style=\"color: #00af00; text-decoration-color: #00af00\">32</span>, <span style=\"color: #00af00; text-decoration-color: #00af00\">128</span>)         │          <span style=\"color: #00af00; text-decoration-color: #00af00\">73,856</span> │\n",
       "├──────────────────────────────────────┼─────────────────────────────┼─────────────────┤\n",
       "│ conv2d_5 (<span style=\"color: #0087ff; text-decoration-color: #0087ff\">Conv2D</span>)                    │ (<span style=\"color: #00d7ff; text-decoration-color: #00d7ff\">None</span>, <span style=\"color: #00af00; text-decoration-color: #00af00\">32</span>, <span style=\"color: #00af00; text-decoration-color: #00af00\">32</span>, <span style=\"color: #00af00; text-decoration-color: #00af00\">128</span>)         │         <span style=\"color: #00af00; text-decoration-color: #00af00\">147,584</span> │\n",
       "├──────────────────────────────────────┼─────────────────────────────┼─────────────────┤\n",
       "│ max_pooling2d_2 (<span style=\"color: #0087ff; text-decoration-color: #0087ff\">MaxPooling2D</span>)       │ (<span style=\"color: #00d7ff; text-decoration-color: #00d7ff\">None</span>, <span style=\"color: #00af00; text-decoration-color: #00af00\">16</span>, <span style=\"color: #00af00; text-decoration-color: #00af00\">16</span>, <span style=\"color: #00af00; text-decoration-color: #00af00\">128</span>)         │               <span style=\"color: #00af00; text-decoration-color: #00af00\">0</span> │\n",
       "├──────────────────────────────────────┼─────────────────────────────┼─────────────────┤\n",
       "│ conv2d_6 (<span style=\"color: #0087ff; text-decoration-color: #0087ff\">Conv2D</span>)                    │ (<span style=\"color: #00d7ff; text-decoration-color: #00d7ff\">None</span>, <span style=\"color: #00af00; text-decoration-color: #00af00\">16</span>, <span style=\"color: #00af00; text-decoration-color: #00af00\">16</span>, <span style=\"color: #00af00; text-decoration-color: #00af00\">256</span>)         │         <span style=\"color: #00af00; text-decoration-color: #00af00\">295,168</span> │\n",
       "├──────────────────────────────────────┼─────────────────────────────┼─────────────────┤\n",
       "│ conv2d_7 (<span style=\"color: #0087ff; text-decoration-color: #0087ff\">Conv2D</span>)                    │ (<span style=\"color: #00d7ff; text-decoration-color: #00d7ff\">None</span>, <span style=\"color: #00af00; text-decoration-color: #00af00\">16</span>, <span style=\"color: #00af00; text-decoration-color: #00af00\">16</span>, <span style=\"color: #00af00; text-decoration-color: #00af00\">256</span>)         │         <span style=\"color: #00af00; text-decoration-color: #00af00\">590,080</span> │\n",
       "├──────────────────────────────────────┼─────────────────────────────┼─────────────────┤\n",
       "│ max_pooling2d_3 (<span style=\"color: #0087ff; text-decoration-color: #0087ff\">MaxPooling2D</span>)       │ (<span style=\"color: #00d7ff; text-decoration-color: #00d7ff\">None</span>, <span style=\"color: #00af00; text-decoration-color: #00af00\">8</span>, <span style=\"color: #00af00; text-decoration-color: #00af00\">8</span>, <span style=\"color: #00af00; text-decoration-color: #00af00\">256</span>)           │               <span style=\"color: #00af00; text-decoration-color: #00af00\">0</span> │\n",
       "├──────────────────────────────────────┼─────────────────────────────┼─────────────────┤\n",
       "│ conv2d_8 (<span style=\"color: #0087ff; text-decoration-color: #0087ff\">Conv2D</span>)                    │ (<span style=\"color: #00d7ff; text-decoration-color: #00d7ff\">None</span>, <span style=\"color: #00af00; text-decoration-color: #00af00\">8</span>, <span style=\"color: #00af00; text-decoration-color: #00af00\">8</span>, <span style=\"color: #00af00; text-decoration-color: #00af00\">512</span>)           │       <span style=\"color: #00af00; text-decoration-color: #00af00\">1,180,160</span> │\n",
       "├──────────────────────────────────────┼─────────────────────────────┼─────────────────┤\n",
       "│ conv2d_9 (<span style=\"color: #0087ff; text-decoration-color: #0087ff\">Conv2D</span>)                    │ (<span style=\"color: #00d7ff; text-decoration-color: #00d7ff\">None</span>, <span style=\"color: #00af00; text-decoration-color: #00af00\">8</span>, <span style=\"color: #00af00; text-decoration-color: #00af00\">8</span>, <span style=\"color: #00af00; text-decoration-color: #00af00\">512</span>)           │       <span style=\"color: #00af00; text-decoration-color: #00af00\">2,359,808</span> │\n",
       "├──────────────────────────────────────┼─────────────────────────────┼─────────────────┤\n",
       "│ max_pooling2d_4 (<span style=\"color: #0087ff; text-decoration-color: #0087ff\">MaxPooling2D</span>)       │ (<span style=\"color: #00d7ff; text-decoration-color: #00d7ff\">None</span>, <span style=\"color: #00af00; text-decoration-color: #00af00\">4</span>, <span style=\"color: #00af00; text-decoration-color: #00af00\">4</span>, <span style=\"color: #00af00; text-decoration-color: #00af00\">512</span>)           │               <span style=\"color: #00af00; text-decoration-color: #00af00\">0</span> │\n",
       "├──────────────────────────────────────┼─────────────────────────────┼─────────────────┤\n",
       "│ dropout (<span style=\"color: #0087ff; text-decoration-color: #0087ff\">Dropout</span>)                    │ (<span style=\"color: #00d7ff; text-decoration-color: #00d7ff\">None</span>, <span style=\"color: #00af00; text-decoration-color: #00af00\">4</span>, <span style=\"color: #00af00; text-decoration-color: #00af00\">4</span>, <span style=\"color: #00af00; text-decoration-color: #00af00\">512</span>)           │               <span style=\"color: #00af00; text-decoration-color: #00af00\">0</span> │\n",
       "├──────────────────────────────────────┼─────────────────────────────┼─────────────────┤\n",
       "│ flatten (<span style=\"color: #0087ff; text-decoration-color: #0087ff\">Flatten</span>)                    │ (<span style=\"color: #00d7ff; text-decoration-color: #00d7ff\">None</span>, <span style=\"color: #00af00; text-decoration-color: #00af00\">8192</span>)                │               <span style=\"color: #00af00; text-decoration-color: #00af00\">0</span> │\n",
       "├──────────────────────────────────────┼─────────────────────────────┼─────────────────┤\n",
       "│ dense (<span style=\"color: #0087ff; text-decoration-color: #0087ff\">Dense</span>)                        │ (<span style=\"color: #00d7ff; text-decoration-color: #00d7ff\">None</span>, <span style=\"color: #00af00; text-decoration-color: #00af00\">1024</span>)                │       <span style=\"color: #00af00; text-decoration-color: #00af00\">8,389,632</span> │\n",
       "├──────────────────────────────────────┼─────────────────────────────┼─────────────────┤\n",
       "│ dropout_1 (<span style=\"color: #0087ff; text-decoration-color: #0087ff\">Dropout</span>)                  │ (<span style=\"color: #00d7ff; text-decoration-color: #00d7ff\">None</span>, <span style=\"color: #00af00; text-decoration-color: #00af00\">1024</span>)                │               <span style=\"color: #00af00; text-decoration-color: #00af00\">0</span> │\n",
       "├──────────────────────────────────────┼─────────────────────────────┼─────────────────┤\n",
       "│ dense_1 (<span style=\"color: #0087ff; text-decoration-color: #0087ff\">Dense</span>)                      │ (<span style=\"color: #00d7ff; text-decoration-color: #00d7ff\">None</span>, <span style=\"color: #00af00; text-decoration-color: #00af00\">38</span>)                  │          <span style=\"color: #00af00; text-decoration-color: #00af00\">38,950</span> │\n",
       "└──────────────────────────────────────┴─────────────────────────────┴─────────────────┘\n",
       "</pre>\n"
      ],
      "text/plain": [
       "┏━━━━━━━━━━━━━━━━━━━━━━━━━━━━━━━━━━━━━━┳━━━━━━━━━━━━━━━━━━━━━━━━━━━━━┳━━━━━━━━━━━━━━━━━┓\n",
       "┃\u001b[1m \u001b[0m\u001b[1mLayer (type)                        \u001b[0m\u001b[1m \u001b[0m┃\u001b[1m \u001b[0m\u001b[1mOutput Shape               \u001b[0m\u001b[1m \u001b[0m┃\u001b[1m \u001b[0m\u001b[1m        Param #\u001b[0m\u001b[1m \u001b[0m┃\n",
       "┡━━━━━━━━━━━━━━━━━━━━━━━━━━━━━━━━━━━━━━╇━━━━━━━━━━━━━━━━━━━━━━━━━━━━━╇━━━━━━━━━━━━━━━━━┩\n",
       "│ conv2d (\u001b[38;5;33mConv2D\u001b[0m)                      │ (\u001b[38;5;45mNone\u001b[0m, \u001b[38;5;34m128\u001b[0m, \u001b[38;5;34m128\u001b[0m, \u001b[38;5;34m32\u001b[0m)        │             \u001b[38;5;34m896\u001b[0m │\n",
       "├──────────────────────────────────────┼─────────────────────────────┼─────────────────┤\n",
       "│ conv2d_1 (\u001b[38;5;33mConv2D\u001b[0m)                    │ (\u001b[38;5;45mNone\u001b[0m, \u001b[38;5;34m128\u001b[0m, \u001b[38;5;34m128\u001b[0m, \u001b[38;5;34m32\u001b[0m)        │           \u001b[38;5;34m9,248\u001b[0m │\n",
       "├──────────────────────────────────────┼─────────────────────────────┼─────────────────┤\n",
       "│ max_pooling2d (\u001b[38;5;33mMaxPooling2D\u001b[0m)         │ (\u001b[38;5;45mNone\u001b[0m, \u001b[38;5;34m64\u001b[0m, \u001b[38;5;34m64\u001b[0m, \u001b[38;5;34m32\u001b[0m)          │               \u001b[38;5;34m0\u001b[0m │\n",
       "├──────────────────────────────────────┼─────────────────────────────┼─────────────────┤\n",
       "│ conv2d_2 (\u001b[38;5;33mConv2D\u001b[0m)                    │ (\u001b[38;5;45mNone\u001b[0m, \u001b[38;5;34m64\u001b[0m, \u001b[38;5;34m64\u001b[0m, \u001b[38;5;34m64\u001b[0m)          │          \u001b[38;5;34m18,496\u001b[0m │\n",
       "├──────────────────────────────────────┼─────────────────────────────┼─────────────────┤\n",
       "│ conv2d_3 (\u001b[38;5;33mConv2D\u001b[0m)                    │ (\u001b[38;5;45mNone\u001b[0m, \u001b[38;5;34m64\u001b[0m, \u001b[38;5;34m64\u001b[0m, \u001b[38;5;34m64\u001b[0m)          │          \u001b[38;5;34m36,928\u001b[0m │\n",
       "├──────────────────────────────────────┼─────────────────────────────┼─────────────────┤\n",
       "│ max_pooling2d_1 (\u001b[38;5;33mMaxPooling2D\u001b[0m)       │ (\u001b[38;5;45mNone\u001b[0m, \u001b[38;5;34m32\u001b[0m, \u001b[38;5;34m32\u001b[0m, \u001b[38;5;34m64\u001b[0m)          │               \u001b[38;5;34m0\u001b[0m │\n",
       "├──────────────────────────────────────┼─────────────────────────────┼─────────────────┤\n",
       "│ conv2d_4 (\u001b[38;5;33mConv2D\u001b[0m)                    │ (\u001b[38;5;45mNone\u001b[0m, \u001b[38;5;34m32\u001b[0m, \u001b[38;5;34m32\u001b[0m, \u001b[38;5;34m128\u001b[0m)         │          \u001b[38;5;34m73,856\u001b[0m │\n",
       "├──────────────────────────────────────┼─────────────────────────────┼─────────────────┤\n",
       "│ conv2d_5 (\u001b[38;5;33mConv2D\u001b[0m)                    │ (\u001b[38;5;45mNone\u001b[0m, \u001b[38;5;34m32\u001b[0m, \u001b[38;5;34m32\u001b[0m, \u001b[38;5;34m128\u001b[0m)         │         \u001b[38;5;34m147,584\u001b[0m │\n",
       "├──────────────────────────────────────┼─────────────────────────────┼─────────────────┤\n",
       "│ max_pooling2d_2 (\u001b[38;5;33mMaxPooling2D\u001b[0m)       │ (\u001b[38;5;45mNone\u001b[0m, \u001b[38;5;34m16\u001b[0m, \u001b[38;5;34m16\u001b[0m, \u001b[38;5;34m128\u001b[0m)         │               \u001b[38;5;34m0\u001b[0m │\n",
       "├──────────────────────────────────────┼─────────────────────────────┼─────────────────┤\n",
       "│ conv2d_6 (\u001b[38;5;33mConv2D\u001b[0m)                    │ (\u001b[38;5;45mNone\u001b[0m, \u001b[38;5;34m16\u001b[0m, \u001b[38;5;34m16\u001b[0m, \u001b[38;5;34m256\u001b[0m)         │         \u001b[38;5;34m295,168\u001b[0m │\n",
       "├──────────────────────────────────────┼─────────────────────────────┼─────────────────┤\n",
       "│ conv2d_7 (\u001b[38;5;33mConv2D\u001b[0m)                    │ (\u001b[38;5;45mNone\u001b[0m, \u001b[38;5;34m16\u001b[0m, \u001b[38;5;34m16\u001b[0m, \u001b[38;5;34m256\u001b[0m)         │         \u001b[38;5;34m590,080\u001b[0m │\n",
       "├──────────────────────────────────────┼─────────────────────────────┼─────────────────┤\n",
       "│ max_pooling2d_3 (\u001b[38;5;33mMaxPooling2D\u001b[0m)       │ (\u001b[38;5;45mNone\u001b[0m, \u001b[38;5;34m8\u001b[0m, \u001b[38;5;34m8\u001b[0m, \u001b[38;5;34m256\u001b[0m)           │               \u001b[38;5;34m0\u001b[0m │\n",
       "├──────────────────────────────────────┼─────────────────────────────┼─────────────────┤\n",
       "│ conv2d_8 (\u001b[38;5;33mConv2D\u001b[0m)                    │ (\u001b[38;5;45mNone\u001b[0m, \u001b[38;5;34m8\u001b[0m, \u001b[38;5;34m8\u001b[0m, \u001b[38;5;34m512\u001b[0m)           │       \u001b[38;5;34m1,180,160\u001b[0m │\n",
       "├──────────────────────────────────────┼─────────────────────────────┼─────────────────┤\n",
       "│ conv2d_9 (\u001b[38;5;33mConv2D\u001b[0m)                    │ (\u001b[38;5;45mNone\u001b[0m, \u001b[38;5;34m8\u001b[0m, \u001b[38;5;34m8\u001b[0m, \u001b[38;5;34m512\u001b[0m)           │       \u001b[38;5;34m2,359,808\u001b[0m │\n",
       "├──────────────────────────────────────┼─────────────────────────────┼─────────────────┤\n",
       "│ max_pooling2d_4 (\u001b[38;5;33mMaxPooling2D\u001b[0m)       │ (\u001b[38;5;45mNone\u001b[0m, \u001b[38;5;34m4\u001b[0m, \u001b[38;5;34m4\u001b[0m, \u001b[38;5;34m512\u001b[0m)           │               \u001b[38;5;34m0\u001b[0m │\n",
       "├──────────────────────────────────────┼─────────────────────────────┼─────────────────┤\n",
       "│ dropout (\u001b[38;5;33mDropout\u001b[0m)                    │ (\u001b[38;5;45mNone\u001b[0m, \u001b[38;5;34m4\u001b[0m, \u001b[38;5;34m4\u001b[0m, \u001b[38;5;34m512\u001b[0m)           │               \u001b[38;5;34m0\u001b[0m │\n",
       "├──────────────────────────────────────┼─────────────────────────────┼─────────────────┤\n",
       "│ flatten (\u001b[38;5;33mFlatten\u001b[0m)                    │ (\u001b[38;5;45mNone\u001b[0m, \u001b[38;5;34m8192\u001b[0m)                │               \u001b[38;5;34m0\u001b[0m │\n",
       "├──────────────────────────────────────┼─────────────────────────────┼─────────────────┤\n",
       "│ dense (\u001b[38;5;33mDense\u001b[0m)                        │ (\u001b[38;5;45mNone\u001b[0m, \u001b[38;5;34m1024\u001b[0m)                │       \u001b[38;5;34m8,389,632\u001b[0m │\n",
       "├──────────────────────────────────────┼─────────────────────────────┼─────────────────┤\n",
       "│ dropout_1 (\u001b[38;5;33mDropout\u001b[0m)                  │ (\u001b[38;5;45mNone\u001b[0m, \u001b[38;5;34m1024\u001b[0m)                │               \u001b[38;5;34m0\u001b[0m │\n",
       "├──────────────────────────────────────┼─────────────────────────────┼─────────────────┤\n",
       "│ dense_1 (\u001b[38;5;33mDense\u001b[0m)                      │ (\u001b[38;5;45mNone\u001b[0m, \u001b[38;5;34m38\u001b[0m)                  │          \u001b[38;5;34m38,950\u001b[0m │\n",
       "└──────────────────────────────────────┴─────────────────────────────┴─────────────────┘\n"
      ]
     },
     "metadata": {},
     "output_type": "display_data"
    },
    {
     "data": {
      "text/html": [
       "<pre style=\"white-space:pre;overflow-x:auto;line-height:normal;font-family:Menlo,'DejaVu Sans Mono',consolas,'Courier New',monospace\"><span style=\"font-weight: bold\"> Total params: </span><span style=\"color: #00af00; text-decoration-color: #00af00\">13,140,806</span> (50.13 MB)\n",
       "</pre>\n"
      ],
      "text/plain": [
       "\u001b[1m Total params: \u001b[0m\u001b[38;5;34m13,140,806\u001b[0m (50.13 MB)\n"
      ]
     },
     "metadata": {},
     "output_type": "display_data"
    },
    {
     "data": {
      "text/html": [
       "<pre style=\"white-space:pre;overflow-x:auto;line-height:normal;font-family:Menlo,'DejaVu Sans Mono',consolas,'Courier New',monospace\"><span style=\"font-weight: bold\"> Trainable params: </span><span style=\"color: #00af00; text-decoration-color: #00af00\">13,140,806</span> (50.13 MB)\n",
       "</pre>\n"
      ],
      "text/plain": [
       "\u001b[1m Trainable params: \u001b[0m\u001b[38;5;34m13,140,806\u001b[0m (50.13 MB)\n"
      ]
     },
     "metadata": {},
     "output_type": "display_data"
    },
    {
     "data": {
      "text/html": [
       "<pre style=\"white-space:pre;overflow-x:auto;line-height:normal;font-family:Menlo,'DejaVu Sans Mono',consolas,'Courier New',monospace\"><span style=\"font-weight: bold\"> Non-trainable params: </span><span style=\"color: #00af00; text-decoration-color: #00af00\">0</span> (0.00 B)\n",
       "</pre>\n"
      ],
      "text/plain": [
       "\u001b[1m Non-trainable params: \u001b[0m\u001b[38;5;34m0\u001b[0m (0.00 B)\n"
      ]
     },
     "metadata": {},
     "output_type": "display_data"
    }
   ],
   "source": [
    "\n",
    "model.summary()"
   ]
  },
  {
   "cell_type": "code",
   "execution_count": 23,
   "id": "9495be20-7b82-4de5-bb53-13eb437a04eb",
   "metadata": {},
   "outputs": [
    {
     "name": "stdout",
     "output_type": "stream",
     "text": [
      "Epoch 1/10\n",
      "\u001b[1m2197/2197\u001b[0m \u001b[32m━━━━━━━━━━━━━━━━━━━━\u001b[0m\u001b[37m\u001b[0m \u001b[1m2404s\u001b[0m 1s/step - accuracy: 0.4067 - loss: 2.1139 - val_accuracy: 0.8481 - val_loss: 0.4766\n",
      "Epoch 2/10\n",
      "\u001b[1m2197/2197\u001b[0m \u001b[32m━━━━━━━━━━━━━━━━━━━━\u001b[0m\u001b[37m\u001b[0m \u001b[1m2431s\u001b[0m 1s/step - accuracy: 0.8399 - loss: 0.5045 - val_accuracy: 0.9240 - val_loss: 0.2343\n",
      "Epoch 3/10\n",
      "\u001b[1m2197/2197\u001b[0m \u001b[32m━━━━━━━━━━━━━━━━━━━━\u001b[0m\u001b[37m\u001b[0m \u001b[1m7309s\u001b[0m 3s/step - accuracy: 0.9123 - loss: 0.2749 - val_accuracy: 0.9407 - val_loss: 0.1812\n",
      "Epoch 4/10\n",
      "\u001b[1m2197/2197\u001b[0m \u001b[32m━━━━━━━━━━━━━━━━━━━━\u001b[0m\u001b[37m\u001b[0m \u001b[1m2192s\u001b[0m 998ms/step - accuracy: 0.9400 - loss: 0.1848 - val_accuracy: 0.9486 - val_loss: 0.1519\n",
      "Epoch 5/10\n",
      "\u001b[1m2197/2197\u001b[0m \u001b[32m━━━━━━━━━━━━━━━━━━━━\u001b[0m\u001b[37m\u001b[0m \u001b[1m2462s\u001b[0m 1s/step - accuracy: 0.9542 - loss: 0.1385 - val_accuracy: 0.9619 - val_loss: 0.1143\n",
      "Epoch 6/10\n",
      "\u001b[1m2197/2197\u001b[0m \u001b[32m━━━━━━━━━━━━━━━━━━━━\u001b[0m\u001b[37m\u001b[0m \u001b[1m4047s\u001b[0m 2s/step - accuracy: 0.9638 - loss: 0.1080 - val_accuracy: 0.9598 - val_loss: 0.1239\n",
      "Epoch 7/10\n",
      "\u001b[1m2197/2197\u001b[0m \u001b[32m━━━━━━━━━━━━━━━━━━━━\u001b[0m\u001b[37m\u001b[0m \u001b[1m35305s\u001b[0m 16s/step - accuracy: 0.9708 - loss: 0.0869 - val_accuracy: 0.9687 - val_loss: 0.0968\n",
      "Epoch 8/10\n",
      "\u001b[1m2197/2197\u001b[0m \u001b[32m━━━━━━━━━━━━━━━━━━━━\u001b[0m\u001b[37m\u001b[0m \u001b[1m3067s\u001b[0m 1s/step - accuracy: 0.9764 - loss: 0.0741 - val_accuracy: 0.9705 - val_loss: 0.0904\n",
      "Epoch 9/10\n",
      "\u001b[1m2197/2197\u001b[0m \u001b[32m━━━━━━━━━━━━━━━━━━━━\u001b[0m\u001b[37m\u001b[0m \u001b[1m2430s\u001b[0m 1s/step - accuracy: 0.9787 - loss: 0.0653 - val_accuracy: 0.9685 - val_loss: 0.0980\n",
      "Epoch 10/10\n",
      "\u001b[1m2197/2197\u001b[0m \u001b[32m━━━━━━━━━━━━━━━━━━━━\u001b[0m\u001b[37m\u001b[0m \u001b[1m10733s\u001b[0m 5s/step - accuracy: 0.9814 - loss: 0.0558 - val_accuracy: 0.9772 - val_loss: 0.0727\n"
     ]
    }
   ],
   "source": [
    "training_history = model.fit(x =dataset,validation_data =datavalidation,epochs = 10)"
   ]
  },
  {
   "cell_type": "code",
   "execution_count": 24,
   "id": "0c7da28b-690f-4138-991c-dcd5ed51cda2",
   "metadata": {},
   "outputs": [
    {
     "name": "stdout",
     "output_type": "stream",
     "text": [
      "\u001b[1m2197/2197\u001b[0m \u001b[32m━━━━━━━━━━━━━━━━━━━━\u001b[0m\u001b[37m\u001b[0m \u001b[1m25286s\u001b[0m 12s/step - accuracy: 0.9963 - loss: 0.0123\n"
     ]
    }
   ],
   "source": [
    "train_loss,train_accuray = model.evaluate(dataset)"
   ]
  },
  {
   "cell_type": "code",
   "execution_count": 30,
   "id": "83fcc715-f8e0-455b-8044-a032f9bc5cda",
   "metadata": {},
   "outputs": [
    {
     "name": "stdout",
     "output_type": "stream",
     "text": [
      "1.1300413869321346 99.6742308139801\n"
     ]
    }
   ],
   "source": [
    "print(train_loss *100,train_accuray * 100)"
   ]
  },
  {
   "cell_type": "code",
   "execution_count": 31,
   "id": "7020afde-69f2-486b-93ce-e91f6947573b",
   "metadata": {},
   "outputs": [
    {
     "name": "stdout",
     "output_type": "stream",
     "text": [
      "\u001b[1m550/550\u001b[0m \u001b[32m━━━━━━━━━━━━━━━━━━━━\u001b[0m\u001b[37m\u001b[0m \u001b[1m121s\u001b[0m 219ms/step - accuracy: 0.9781 - loss: 0.0684\n"
     ]
    }
   ],
   "source": [
    "validation_loss,validation_accuray = model.evaluate(datavalidation)"
   ]
  },
  {
   "cell_type": "code",
   "execution_count": 27,
   "id": "50c81d62-97ba-4dbd-a949-20d8c2e94ed1",
   "metadata": {},
   "outputs": [],
   "source": [
    "model.save(\"trained_model.keras\")"
   ]
  },
  {
   "cell_type": "code",
   "execution_count": null,
   "id": "7d0d55b8-070c-4562-8a26-609612dec921",
   "metadata": {},
   "outputs": [],
   "source": [
    "training_history.history"
   ]
  },
  {
   "cell_type": "code",
   "execution_count": null,
   "id": "91c38d76-e495-48f3-b758-6e7ff9fb42aa",
   "metadata": {},
   "outputs": [],
   "source": [
    "import json\n",
    "with open(\"training_hist.json\",\"w\") as f:\n",
    "    json.dump(training_history.history,f)\n",
    "    "
   ]
  },
  {
   "cell_type": "code",
   "execution_count": null,
   "id": "e3ca929d-2d14-4ddd-8418-0fc88dd082ca",
   "metadata": {},
   "outputs": [],
   "source": [
    "epchos = [i for i in range[1,11]]\n",
    "plt.plot(epochs,training_history.history['accuracy'],color ='geen',label =\"Training_Accuracy\")\n",
    "plt.plot(epochs,training_history.history['val_accuracy'],color ='blue',label =\"validation_Accuracy\")\n",
    "plt.xlabel(\"No .of epchos\")\n",
    "plt.ylabel(\"accuracy\")\n",
    "plt.legend()\n",
    "plt.show()"
   ]
  },
  {
   "cell_type": "code",
   "execution_count": null,
   "id": "d0f799df-f241-4ae2-bdfe-a82ee7e8d0cf",
   "metadata": {},
   "outputs": [],
   "source": [
    "test_set = tf.keras.utils.image_dataset_from_directory(\n",
    "    'valid',\n",
    "    labels=\"inferred\",\n",
    "    label_mode=\"categorical\",\n",
    "    class_names=None,\n",
    "    color_mode=\"rgb\",\n",
    "    batch_size=1,\n",
    "    image_size=(128, 128),\n",
    "    shuffle=False,\n",
    "    seed=None,\n",
    "    validation_split=None,\n",
    "    subset=None,\n",
    "    interpolation=\"bilinear\",\n",
    "    follow_links=False,\n",
    "    crop_to_aspect_ratio=False\n",
    ")"
   ]
  },
  {
   "cell_type": "code",
   "execution_count": null,
   "id": "4a82738a-5756-4d9b-92d1-b45319855755",
   "metadata": {},
   "outputs": [],
   "source": [
    "\n",
    "y_pred = model.predict(test_set)\n",
    "predicted_categories = tf.argmax(y_pred, axis=1)"
   ]
  },
  {
   "cell_type": "code",
   "execution_count": null,
   "id": "f2a3171e-0b3b-4f66-9a74-f5fdd3403cce",
   "metadata": {},
   "outputs": [],
   "source": [
    "true_categories = tf.concat([y for x, y in test_set], axis=0)\n",
    "Y_true = tf.argmax(true_categories, axis=1)"
   ]
  },
  {
   "cell_type": "code",
   "execution_count": null,
   "id": "762357f9-db21-4c0c-a624-fce035ac2b12",
   "metadata": {},
   "outputs": [],
   "source": [
    "Y_true"
   ]
  },
  {
   "cell_type": "code",
   "execution_count": null,
   "id": "ad3bd5bd-a79f-420d-a373-9182248f4fd8",
   "metadata": {},
   "outputs": [],
   "source": [
    "predicted_categories"
   ]
  },
  {
   "cell_type": "code",
   "execution_count": null,
   "id": "49d91660-c43c-424d-aab5-e948af7d9bf1",
   "metadata": {},
   "outputs": [],
   "source": [
    "\n",
    "from sklearn.metrics import confusion_matrix,classification_report\n",
    "cm = confusion_matrix(Y_true,predicted_categories)"
   ]
  },
  {
   "cell_type": "code",
   "execution_count": null,
   "id": "3013851b-6a0a-4c6f-a35f-295dfed0e4bf",
   "metadata": {},
   "outputs": [],
   "source": [
    "# Precision Recall Fscore\n",
    "print(classification_report(Y_true,predicted_categories,target_names=class_name))"
   ]
  },
  {
   "cell_type": "code",
   "execution_count": null,
   "id": "aa1bc2e0-0576-4df8-9150-6d6d7b0126be",
   "metadata": {},
   "outputs": [],
   "source": [
    "plt.figure(figsize=(40, 40))\n",
    "sns.heatmap(cm,annot=True,annot_kws={\"size\": 10})\n",
    "\n",
    "plt.xlabel('Predicted Class',fontsize = 20)\n",
    "plt.ylabel('Actual Class',fontsize = 20)\n",
    "plt.title('Plant Disease Prediction Confusion Matrix',fontsize = 25)\n",
    "plt.show()"
   ]
  },
  {
   "cell_type": "code",
   "execution_count": null,
   "id": "0b3333c5-6c46-4dc7-b511-fe29ad0862ad",
   "metadata": {},
   "outputs": [],
   "source": [
    "import os\n",
    "model_version =max([int(i) for i in os.listdir(\"../models\")  + [0] ]) +1\n",
    "model.save(\"f../model/{model_version}\")"
   ]
  }
 ],
 "metadata": {
  "kernelspec": {
   "display_name": "Python 3 (ipykernel)",
   "language": "python",
   "name": "python3"
  },
  "language_info": {
   "codemirror_mode": {
    "name": "ipython",
    "version": 3
   },
   "file_extension": ".py",
   "mimetype": "text/x-python",
   "name": "python",
   "nbconvert_exporter": "python",
   "pygments_lexer": "ipython3",
   "version": "3.9.21"
  }
 },
 "nbformat": 4,
 "nbformat_minor": 5
}
